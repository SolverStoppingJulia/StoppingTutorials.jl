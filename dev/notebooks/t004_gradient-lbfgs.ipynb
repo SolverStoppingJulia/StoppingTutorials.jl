{
 "cells": [
  {
   "cell_type": "markdown",
   "source": [
    "# Tutorial 4: Mixed-algorithms, a ListofStates tutorial"
   ],
   "metadata": {}
  },
  {
   "cell_type": "markdown",
   "source": [
    "We illustrate here the use of `ListofStates` in dealing with a warm start procedure."
   ],
   "metadata": {}
  },
  {
   "cell_type": "markdown",
   "source": [
    "`ListofStates` is designed to store the of the iteration process.\n",
    "In this tutorial, we compare the resolution of a convex unconstrained problem with 3 variants:\n",
    " - a steepest descent method\n",
    " - an inverse-BFGS method\n",
    " - a mix of 5 steps of steepest descent and then switching to a BFGS initialized with the 5 previous steps."
   ],
   "metadata": {}
  },
  {
   "outputs": [],
   "cell_type": "code",
   "source": [
    "using Stopping, NLPModels, LinearAlgebra, Test, Printf"
   ],
   "metadata": {},
   "execution_count": null
  },
  {
   "cell_type": "markdown",
   "source": [
    "First, we introduce our two implementations that both uses an backtracking Armijo linesearch."
   ],
   "metadata": {}
  },
  {
   "outputs": [],
   "cell_type": "code",
   "source": [
    "import Stopping.armijo\n",
    "function armijo(xk, dk, fk, slope, f)\n",
    "  t = 1.0\n",
    "  fk_new = f(xk + dk)\n",
    "  while f(xk + t * dk) > fk + 1.0e-4 * t * slope\n",
    "    t /= 1.5\n",
    "    fk_new = f(xk + t * dk)\n",
    "  end\n",
    "  return t, fk_new\n",
    "end\n",
    "\n",
    "function steepest_descent(stp :: NLPStopping)\n",
    "\n",
    "  xk = stp.current_state.x\n",
    "  fk, gk = objgrad(stp.pb, xk)\n",
    "\n",
    "  OK = update_and_start!(stp, fx = fk, gx = gk)\n",
    "\n",
    "  @printf \"%2s %9s %7s %7s %7s\\n\" \"k\" \"fk\" \"||∇f(x)||\" \"t\" \"λ\"\n",
    "  @printf \"%2d %7.1e %7.1e\\n\" stp.meta.nb_of_stop fk norm(stp.current_state.current_score)\n",
    "  while !OK\n",
    "    dk = - gk\n",
    "    slope = dot(dk, gk)\n",
    "    t, fk = armijo(xk, dk, fk, slope, x->obj(stp.pb, x))\n",
    "    xk += t * dk\n",
    "    fk, gk = objgrad(stp.pb, xk)\n",
    "\n",
    "    OK = update_and_stop!(stp, x = xk, fx = fk, gx = gk)\n",
    "\n",
    "    @printf \"%2d %9.2e %7.1e %7.1e %7.1e\\n\" stp.meta.nb_of_stop fk norm(stp.current_state.current_score) t slope\n",
    "  end\n",
    "  return stp\n",
    "end\n",
    "\n",
    "function bfgs_quasi_newton_armijo(stp :: NLPStopping; Hk = nothing)\n",
    "\n",
    "  xk = stp.current_state.x\n",
    "  fk, gk = objgrad(stp.pb, xk)\n",
    "  gm = gk\n",
    "\n",
    "  dk, t = similar(gk), 1.\n",
    "  if isnothing(Hk)\n",
    "    Hk = I #start from identity matrix\n",
    "  end\n",
    "\n",
    "  OK = update_and_start!(stp, fx = fk, gx = gk)\n",
    "\n",
    "  @printf \"%2s %7s %7s %7s %7s\\n\" \"k\" \"fk\" \"||∇f(x)||\" \"t\" \"cos\"\n",
    "  @printf \"%2d %7.1e %7.1e\\n\" stp.meta.nb_of_stop fk norm(stp.current_state.current_score)\n",
    "\n",
    "  while !OK\n",
    "    if stp.meta.nb_of_stop != 0\n",
    "      sk = t * dk\n",
    "      yk = gk - gm\n",
    "      ρk = 1/dot(yk, sk)\n",
    "      #we need yk'*sk > 0 for instance yk'*sk ≥ 1.0e-2 * sk' * Hk * sk\n",
    "      Hk = ρk ≤ 0.0 ? Hk : (I - ρk * sk * yk') * Hk * (I - ρk * yk * sk') + ρk * sk * sk'\n",
    "      if norm(sk) ≤ 1e-14\n",
    "        break\n",
    "      end\n",
    "      #H2 = Hk + sk * sk' * (dot(sk,yk) + yk'*Hk*yk )*ρk^2 - ρk*(Hk * yk * sk' + sk * yk'*Hk)\n",
    "    end\n",
    "    dk = - Hk * gk\n",
    "    slope = dot(dk, gk) # ≤ -1.0e-4 * norm(dk) * gnorm\n",
    "    t, fk = armijo(xk, dk, fk, slope, x->obj(stp.pb, x))\n",
    "\n",
    "    xk = xk + t * dk\n",
    "    gm = copy(gk)\n",
    "    gk = grad(stp.pb, xk)\n",
    "\n",
    "    OK = update_and_stop!(stp, x = xk, fx = fk, gx = gk)\n",
    "    @printf \"%2d %7.1e %7.1e %7.1e %7.1e\\n\" stp.meta.nb_of_stop fk norm(stp.current_state.current_score) t slope\n",
    "  end\n",
    "  stp.stopping_user_struct = Dict( :Hk => Hk)\n",
    "  return stp\n",
    "end"
   ],
   "metadata": {},
   "execution_count": null
  },
  {
   "cell_type": "markdown",
   "source": [
    "We consider the following convex unconstrained problem model using `ADNLPModels.jl` and defines a related `NLPStopping`."
   ],
   "metadata": {}
  },
  {
   "outputs": [],
   "cell_type": "code",
   "source": [
    "fH(x) = (x[2]+x[1].^2-11).^2+(x[1]+x[2].^2-7).^2\n",
    "nlp = ADNLPModel(fH, [10., 20.])\n",
    "stp = NLPStopping(nlp, optimality_check = unconstrained_check,\n",
    "                 atol = 1e-6, rtol = 0.0, max_iter = 100)\n",
    "\n",
    "reinit!(stp, rstate = true, x = nlp.meta.x0)\n",
    "steepest_descent(stp)\n",
    "\n",
    "@test status(stp) == :Optimal\n",
    "@test stp.listofstates == VoidListofStates()\n",
    "\n",
    "elapsed_time(stp)\n",
    "nlp.counters\n",
    "\n",
    "reinit!(stp, rstate = true, x = nlp.meta.x0, rcounters = true)\n",
    "bfgs_quasi_newton_armijo(stp)\n",
    "\n",
    "@test status(stp) == :Optimal\n",
    "@test stp.listofstates == VoidListofStates()\n",
    "\n",
    "elapsed_time(stp)\n",
    "nlp.counters\n",
    "\n",
    "NLPModels.reset!(nlp)\n",
    "stp_warm = NLPStopping(nlp, optimality_check = unconstrained_check,\n",
    "                      atol = 1e-6, rtol = 0.0, max_iter = 5,\n",
    "                      n_listofstates = 5) #shortcut for list = ListofStates(5, Val{NLPAtX{Float64,Array{Float64,1},Array{Float64,2}}}()))\n",
    "steepest_descent(stp_warm)\n",
    "@test status(stp_warm) == :IterationLimit\n",
    "@test length(stp_warm.listofstates) == 5\n",
    "\n",
    "Hwarm = I\n",
    "for i=2:5\n",
    "  sk = stp_warm.listofstates.list[i][1].x - stp_warm.listofstates.list[i-1][1].x\n",
    "  yk = stp_warm.listofstates.list[i][1].gx - stp_warm.listofstates.list[i-1][1].gx\n",
    "  ρk = 1/dot(yk, sk)\n",
    "  if ρk > 0.0\n",
    "    global Hwarm = (I - ρk * sk * yk') * Hwarm * (I - ρk * yk * sk') + ρk * sk * sk'\n",
    "  end\n",
    "end\n",
    "\n",
    "reinit!(stp_warm)\n",
    "stp_warm.meta.max_iter = 100\n",
    "bfgs_quasi_newton_armijo(stp_warm, Hk = Hwarm)\n",
    "status(stp_warm)\n",
    "\n",
    "elapsed_time(stp_warm)\n",
    "nlp.counters"
   ],
   "metadata": {},
   "execution_count": null
  },
  {
   "cell_type": "markdown",
   "source": [
    "---\n",
    "\n",
    "*This notebook was generated using [Literate.jl](https://github.com/fredrikekre/Literate.jl).*"
   ],
   "metadata": {}
  }
 ],
 "nbformat_minor": 3,
 "metadata": {
  "language_info": {
   "file_extension": ".jl",
   "mimetype": "application/julia",
   "name": "julia",
   "version": "1.6.6"
  },
  "kernelspec": {
   "name": "julia-1.6",
   "display_name": "Julia 1.6.6",
   "language": "julia"
  }
 },
 "nbformat": 4
}
