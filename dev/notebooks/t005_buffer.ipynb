{
 "cells": [
  {
   "cell_type": "markdown",
   "source": [
    "# Tutorial 5: Use a buffer"
   ],
   "metadata": {}
  },
  {
   "cell_type": "markdown",
   "source": [
    "We already illustrated the use of Stopping for optimization algorithm,\n",
    "however, in the case where one algorithm/solver is not Stopping-compatible,\n",
    "a buffer solver is required to unify the formalism.\n",
    "We illustrate this situation here with the Ipopt solver."
   ],
   "metadata": {}
  },
  {
   "cell_type": "markdown",
   "source": [
    "Remark in the buffer function: in case the solver stops with success\n",
    "but the stopping condition is not satisfied, one option is to iterate\n",
    "and reduce the various tolerances."
   ],
   "metadata": {}
  },
  {
   "cell_type": "markdown",
   "source": [
    "Documentation for Ipopt options can be found here:\n",
    "https://coin-or.github.io/Ipopt/OPTIONS.html#OPTIONS_REF"
   ],
   "metadata": {}
  },
  {
   "cell_type": "markdown",
   "source": [
    "The Julia file corresponding to this tutorial can be found [here](https://github.com/Goysa2/Stopping.jl/tree/master/test/examples/buffer.jl)."
   ],
   "metadata": {}
  },
  {
   "outputs": [],
   "cell_type": "code",
   "source": [
    "using ADNLPModels, NLPModels, NLPModelsIpopt, Stopping\n",
    "\n",
    "f(x) = sum(x .^ 2)\n",
    "x0  = 1.5 * ones(6)\n",
    "nlp = ADNLPModel(f,  x0)"
   ],
   "metadata": {},
   "execution_count": null
  },
  {
   "cell_type": "markdown",
   "source": [
    "The traditional way to solve an optimization problem using NLPModelsIpopt\n",
    "https://github.com/JuliaSmoothOptimizers/NLPModelsIpopt.jl"
   ],
   "metadata": {}
  },
  {
   "outputs": [],
   "cell_type": "code",
   "source": [
    "stats = ipopt(nlp, print_level = 0, x0 = x0)"
   ],
   "metadata": {},
   "execution_count": null
  },
  {
   "cell_type": "markdown",
   "source": [
    "Use y0 (general), zL (lower bound), zU (upper bound)\n",
    "for initial guess of Lagrange multipliers."
   ],
   "metadata": {}
  },
  {
   "outputs": [],
   "cell_type": "code",
   "source": [
    "stats.solution, stats.status"
   ],
   "metadata": {},
   "execution_count": null
  },
  {
   "cell_type": "markdown",
   "source": [
    "Using Stopping, the idea is to create a buffer function"
   ],
   "metadata": {}
  },
  {
   "outputs": [],
   "cell_type": "code",
   "source": [
    "function solveIpopt(stp :: NLPStopping)\n",
    "\n",
    "  stats = ipopt(nlp, print_level     = 0,\n",
    "                    tol             = stp.meta.rtol,\n",
    "                    x0              = stp.current_state.x,\n",
    "                    max_iter        = stp.meta.max_iter,\n",
    "                    max_cpu_time    = stp.meta.max_time,\n",
    "                    dual_inf_tol    = stp.meta.atol,\n",
    "                    constr_viol_tol = stp.meta.atol,\n",
    "                    compl_inf_tol   = stp.meta.atol)\n",
    "\n",
    "  #Update the meta boolean with the output message\n",
    "  if stats.status == :first_order stp.meta.suboptimal      = true end\n",
    "  if stats.status == :acceptable  stp.meta.suboptimal      = true end\n",
    "  if stats.status == :infeasible  stp.meta.infeasible      = true end\n",
    "  if stats.status == :small_step  stp.meta.stalled         = true end\n",
    "  if stats.status == :max_iter    stp.meta.iteration_limit = true end\n",
    "  if stats.status == :max_time    stp.meta.tired           = true end\n",
    "\n",
    "  stp.meta.nb_of_stop = stats.iter\n",
    "  x = stats.solution\n",
    "\n",
    "  #Not mandatory, but in case some entries of the State are used to stop\n",
    "  fill_in!(stp, x)\n",
    "\n",
    "  stop!(stp)\n",
    "\n",
    "  return stp\n",
    "end\n",
    "\n",
    "nlp_at_x = NLPAtX(x0)\n",
    "stop = NLPStopping(nlp, nlp_at_x, optimality_check = unconstrained_check)"
   ],
   "metadata": {},
   "execution_count": null
  },
  {
   "cell_type": "markdown",
   "source": [
    "### 1st scenario\n",
    "we solve again the problem with the buffer solver"
   ],
   "metadata": {}
  },
  {
   "outputs": [],
   "cell_type": "code",
   "source": [
    "solveIpopt(stop)\n",
    "stop.current_state.x, status(stop)\n",
    "nbiter = stop.meta.nb_of_stop"
   ],
   "metadata": {},
   "execution_count": null
  },
  {
   "cell_type": "markdown",
   "source": [
    "### 2nd scenario\n",
    "we check that we control the maximum iterations."
   ],
   "metadata": {}
  },
  {
   "outputs": [],
   "cell_type": "code",
   "source": [
    "#rstate is set as true to allow reinit! modifying the State\n",
    "reinit!(stop, rstate = true, x = x0)\n",
    "stop.meta.max_iter = max(nbiter-4,1)\n",
    "\n",
    "solveIpopt(stop)\n",
    "#Final status is :IterationLimit\n",
    "stop.current_state.x, status(stop)"
   ],
   "metadata": {},
   "execution_count": null
  },
  {
   "cell_type": "markdown",
   "source": [
    "---\n",
    "\n",
    "*This notebook was generated using [Literate.jl](https://github.com/fredrikekre/Literate.jl).*"
   ],
   "metadata": {}
  }
 ],
 "nbformat_minor": 3,
 "metadata": {
  "language_info": {
   "file_extension": ".jl",
   "mimetype": "application/julia",
   "name": "julia",
   "version": "1.6.5"
  },
  "kernelspec": {
   "name": "julia-1.6",
   "display_name": "Julia 1.6.5",
   "language": "julia"
  }
 },
 "nbformat": 4
}
