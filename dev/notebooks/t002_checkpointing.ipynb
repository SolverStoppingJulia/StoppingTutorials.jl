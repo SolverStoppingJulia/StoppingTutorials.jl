{
 "cells": [
  {
   "cell_type": "markdown",
   "source": [
    "# Tutorial 2: Checkpointing"
   ],
   "metadata": {}
  },
  {
   "cell_type": "markdown",
   "source": [
    "In this tutorial, we present the use of Stopping to checkpointing."
   ],
   "metadata": {}
  },
  {
   "cell_type": "markdown",
   "source": [
    "When using an optimizer for high-scale problems, the resolution process\n",
    "might be extremly long. In order to analyze the progress of the algorithm or save ongoing results,\n",
    "an idea is to introduce checkpointing, i.e. we save the output result in the file\n",
    "every `n`-steps. Using `Stopping` this operation is now very simple."
   ],
   "metadata": {}
  },
  {
   "outputs": [],
   "cell_type": "code",
   "source": [
    "using ADNLPModels, FileIO, JLD2, LinearAlgebra, NLPModels, Printf, Random, Stopping"
   ],
   "metadata": {},
   "execution_count": null
  },
  {
   "cell_type": "markdown",
   "source": [
    "In this tutorial, we will use the steepest descent method with a fixed stepsize."
   ],
   "metadata": {}
  },
  {
   "outputs": [],
   "cell_type": "code",
   "source": [
    "function fixed_step_steepest_descent(stp :: NLPStopping; t = 1e-5)\n",
    "\n",
    "  xk = stp.current_state.x\n",
    "\n",
    "  OK = update_and_start!(stp, gx = grad(stp.pb, xk))\n",
    "\n",
    "  @printf \"%2s %7s\\n\" \"k\" \"||∇f(x)||\"\n",
    "  @printf \"%2d %7.1e\\n\" stp.meta.nb_of_stop norm(stp.current_state.current_score)\n",
    "  while !OK\n",
    "    xk -= t * stp.current_state.gx\n",
    "\n",
    "    OK = update_and_stop!(stp, x = xk, gx = grad(stp.pb, xk))\n",
    "\n",
    "    @printf \"%2d %7.1e\\n\" stp.meta.nb_of_stop norm(stp.current_state.current_score)\n",
    "  end\n",
    "  return stp\n",
    "end"
   ],
   "metadata": {},
   "execution_count": null
  },
  {
   "cell_type": "markdown",
   "source": [
    "We now generate a regularized least squares problem using `ADNLPModels.jl`."
   ],
   "metadata": {}
  },
  {
   "outputs": [],
   "cell_type": "code",
   "source": [
    "Random.seed!(1234)\n",
    "m, n = 10_000, 10\n",
    "A  = rand(m, n)\n",
    "b  = A * ones(n)\n",
    "f(x, A, b, λ) = norm(A * x - b)^2 + λ * norm(x)^2\n",
    "pb = ADNLPModel(x -> f(x, A, b, 1e-2), zeros(n))"
   ],
   "metadata": {},
   "execution_count": null
  },
  {
   "cell_type": "markdown",
   "source": [
    "The final step is now to initialize the `Stopping` and specify user-defined structures\n",
    "to store the parameter `n_save` set to 50 so that every 50 iterations the current\n",
    "stopping is saved using the package `JLD2.jl`."
   ],
   "metadata": {}
  },
  {
   "outputs": [],
   "cell_type": "code",
   "source": [
    "save_check(stp, b) = begin\n",
    "  if stp.meta.nb_of_stop % stp.stopping_user_struct[:n_save] == 0\n",
    "    @save \"checkpoint_stopping_$(stp.meta.nb_of_stop).jld2\" stp\n",
    "  end\n",
    "end\n",
    "n_save = 50\n",
    "stp = NLPStopping(pb, user_struct = Dict(:n_save => n_save),\n",
    "                      user_check_func! = save_check, max_iter = 99)"
   ],
   "metadata": {},
   "execution_count": null
  },
  {
   "cell_type": "markdown",
   "source": [
    "Let's go"
   ],
   "metadata": {}
  },
  {
   "outputs": [],
   "cell_type": "code",
   "source": [
    "fixed_step_steepest_descent(stp)"
   ],
   "metadata": {},
   "execution_count": null
  },
  {
   "cell_type": "markdown",
   "source": [
    "The algorithm has now generated two files `checkpoint_stopping_0.jld2` and `checkpoint_stopping_50.jld2` that\n",
    "can be analyzed."
   ],
   "metadata": {}
  },
  {
   "outputs": [],
   "cell_type": "code",
   "source": [
    "stp0 = load(\"checkpoint_stopping_0.jld2\")[\"stp\"]\n",
    "stp50 = load(\"checkpoint_stopping_50.jld2\")[\"stp\"]"
   ],
   "metadata": {},
   "execution_count": null
  },
  {
   "cell_type": "markdown",
   "source": [
    "---\n",
    "\n",
    "*This notebook was generated using [Literate.jl](https://github.com/fredrikekre/Literate.jl).*"
   ],
   "metadata": {}
  }
 ],
 "nbformat_minor": 3,
 "metadata": {
  "language_info": {
   "file_extension": ".jl",
   "mimetype": "application/julia",
   "name": "julia",
   "version": "1.6.5"
  },
  "kernelspec": {
   "name": "julia-1.6",
   "display_name": "Julia 1.6.5",
   "language": "julia"
  }
 },
 "nbformat": 4
}
