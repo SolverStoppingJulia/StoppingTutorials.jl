{
 "cells": [
  {
   "cell_type": "markdown",
   "source": [
    "# Tutorial 1: Example of a fixed point algorithm"
   ],
   "metadata": {}
  },
  {
   "cell_type": "markdown",
   "source": [
    "Stopping can also be used for fixed point methods\n",
    "Example here concerns the AlternatingDirections Algorithm to find\n",
    "a feasible point in the intersection of 2 convex sets A and B.\n",
    "This algorithm relies on a fixed point argument, hence it stopped if it finds\n",
    "a fixed point."
   ],
   "metadata": {}
  },
  {
   "cell_type": "markdown",
   "source": [
    "Example:\n",
    "A={ (x,y) | x=y} and B = {(x,y) | y=0}\n",
    "Clearly the unique intersection point is (0,0)"
   ],
   "metadata": {}
  },
  {
   "cell_type": "markdown",
   "source": [
    "Note that in this case the projection on A and the projection on B are trivial"
   ],
   "metadata": {}
  },
  {
   "cell_type": "markdown",
   "source": [
    "Takeaway: the 2nd scenario illustrates a situation where the algorithm stalls\n",
    "as it reached a personal success. (optimal_sub_pb is true)"
   ],
   "metadata": {}
  },
  {
   "outputs": [],
   "cell_type": "code",
   "source": [
    "using ADNLPModels, LinearAlgebra, NLPModels, Stopping, Test"
   ],
   "metadata": {},
   "execution_count": null
  },
  {
   "cell_type": "markdown",
   "source": [
    "Main algorithm"
   ],
   "metadata": {}
  },
  {
   "outputs": [],
   "cell_type": "code",
   "source": [
    "function AlternatingDirections(stp)\n",
    "\n",
    " xk = stp.current_state.x\n",
    " OK = update_and_start!(stp, cx = cons(stp.pb, x0))\n",
    "\n",
    " while !OK\n",
    "\n",
    "  #First projection\n",
    "  xk1 = 0.5 * (xk[1] + xk[2]) * ones(2)\n",
    "  #Second projection\n",
    "  xk2 = [xk1[1],0.0]\n",
    "\n",
    "  #check if we have a fixed point\n",
    "  Fix = dot(xk-xk2,xk-xk2)\n",
    "  if Fix <= min(eps(Float64),stp.meta.atol) stp.meta.suboptimal = true end\n",
    "  #call the stopping\n",
    "  OK = update_and_stop!(stp, x = xk2, cx = cons(stp.pb, xk2))\n",
    "\n",
    "  xk = xk2\n",
    " end\n",
    "\n",
    " return stp\n",
    "end"
   ],
   "metadata": {},
   "execution_count": null
  },
  {
   "cell_type": "markdown",
   "source": [
    "We model the problem using the NLPModels without objective function\n",
    "Formulate the problem with NLPModels"
   ],
   "metadata": {}
  },
  {
   "outputs": [],
   "cell_type": "code",
   "source": [
    "c(x) = [x[1] - x[2], x[2]]\n",
    "lcon = [0.0, 0.0]\n",
    "ucon = [0.0, 0.0]\n",
    "nlp = ADNLPModel(x->0.0, zeros(2), c, lcon, ucon)"
   ],
   "metadata": {},
   "execution_count": null
  },
  {
   "cell_type": "markdown",
   "source": [
    "1st scenario: we solve the problem"
   ],
   "metadata": {}
  },
  {
   "outputs": [],
   "cell_type": "code",
   "source": [
    "printstyled(\"1st scenario:\\n\")\n",
    "#Prepare the Stopping\n",
    "x0 = [0.0, 5.0]\n",
    "state = NLPAtX(x0)\n",
    "#Recall that for the optimality_check function x is the pb and y is the state\n",
    "#Here we take the infinite norm of the residual.\n",
    "stop = NLPStopping(nlp, state, optimality_check = (x,y) -> norm(y.cx, Inf))\n",
    "\n",
    "AlternatingDirections(stop)\n",
    "status(stop)\n",
    "@test status(stop) == :Optimal"
   ],
   "metadata": {},
   "execution_count": null
  },
  {
   "cell_type": "markdown",
   "source": [
    "2nd scenario: the user gives an irrealistic optimality condition"
   ],
   "metadata": {}
  },
  {
   "outputs": [],
   "cell_type": "code",
   "source": [
    "printstyled(\"2nd scenario:\\n\")\n",
    "reinit!(stop, rstate = true, x = x0)\n",
    "stop.meta.optimality_check = (x, y) -> norm(y.cx, Inf) + 0.5\n",
    "\n",
    "AlternatingDirections(stop)\n",
    "#In this scenario, the algorithm stops because it attains a fixed point\n",
    "#Hence, status is :SubOptimal.\n",
    "status(stop)\n",
    "@test status(stop) == :SubOptimal"
   ],
   "metadata": {},
   "execution_count": null
  },
  {
   "cell_type": "markdown",
   "source": [
    "---\n",
    "\n",
    "*This notebook was generated using [Literate.jl](https://github.com/fredrikekre/Literate.jl).*"
   ],
   "metadata": {}
  }
 ],
 "nbformat_minor": 3,
 "metadata": {
  "language_info": {
   "file_extension": ".jl",
   "mimetype": "application/julia",
   "name": "julia",
   "version": "1.6.5"
  },
  "kernelspec": {
   "name": "julia-1.6",
   "display_name": "Julia 1.6.5",
   "language": "julia"
  }
 },
 "nbformat": 4
}
